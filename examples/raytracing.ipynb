{
 "cells": [
  {
   "cell_type": "code",
   "execution_count": 1,
   "metadata": {},
   "outputs": [],
   "source": [
    "import sys\n",
    "sys.path.append('../')\n",
    "import raytracing\n",
    "import numpy as np\n",
    "import jax.numpy as jnp\n",
    "import cv2\n",
    "from matplotlib.pyplot import imshow\n",
    "%matplotlib inline"
   ]
  },
  {
   "cell_type": "code",
   "execution_count": 2,
   "metadata": {},
   "outputs": [
    {
     "data": {
      "text/plain": [
       "<matplotlib.image.AxesImage at 0x13e0c75e0>"
      ]
     },
     "execution_count": 2,
     "metadata": {},
     "output_type": "execute_result"
    },
    {
     "data": {
      "image/png": "[encoded data removed]",
      "text/plain": [
       "<Figure size 432x288 with 1 Axes>"
      ]
     },
     "metadata": {
      "needs_background": "light"
     },
     "output_type": "display_data"
    }
   ],
   "source": [
    "img_width = 256\n",
    "img_height = 256\n",
    "img = np.arange(img_height * img_width, dtype=float).reshape((img_height, img_width)).T\n",
    "img = img[..., np.newaxis]\n",
    "img = np.repeat(img, 3, axis=2)\n",
    "img[..., 1] = img[..., 1].T\n",
    "img[..., 0] /= ((img_width - 1.) * 256)\n",
    "img[..., 1] /= ((img_height - 1.) * 256)\n",
    "img[..., 2] = 0.25\n",
    "img *= 254.999\n",
    "img = np.flipud(img.astype(int))\n",
    "imshow(img)"
   ]
  }
 ],
 "metadata": {
  "interpreter": {
   "hash": "5e44beac5c2d5d9382cef7adb66baa92dfee2cf8acf76d6147bf31eab2f33f3f"
  },
  "kernelspec": {
   "display_name": "Python 3.9.10 ('.local_venv': venv)",
   "language": "python",
   "name": "python3"
  },
  "language_info": {
   "codemirror_mode": {
    "name": "ipython",
    "version": 3
   },
   "file_extension": ".py",
   "mimetype": "text/x-python",
   "name": "python",
   "nbconvert_exporter": "python",
   "pygments_lexer": "ipython3",
   "version": "3.9.10"
  },
  "orig_nbformat": 4
 },
 "nbformat": 4,
 "nbformat_minor": 2
}
